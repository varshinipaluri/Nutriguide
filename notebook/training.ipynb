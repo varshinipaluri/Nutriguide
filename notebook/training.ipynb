{
 "cells": [
  {
   "cell_type": "code",
   "execution_count": null,
   "id": "e3e7f207",
   "metadata": {},
   "outputs": [],
   "source": [
    "import pandas as pd\n",
    "\n",
    "# Load datasets\n",
    "final_data = pd.read_csv(\"../datasets/Final_Data_Set.csv\")\n",
    "meal_suggestions = pd.read_csv(\"../datasets/Meal_Suggestions.csv\")\n",
    "nutrients = pd.read_csv(\"../datasets/Micro_and_Macro_Nutrients.csv\")\n",
    "\n",
    "# Merge on common key (Daily_Calories)\n",
    "data = pd.merge(final_data, meal_suggestions, on=\"Daily_Calories\")\n",
    "data = pd.merge(data, nutrients, on=\"Daily_Calories\")"
   ]
  },
  {
   "cell_type": "code",
   "execution_count": 35,
   "id": "7345d4a7",
   "metadata": {},
   "outputs": [
    {
     "name": "stdout",
     "output_type": "stream",
     "text": [
      "Age                        0\n",
      "Gender                     0\n",
      "Weight_kg                  0\n",
      "Height_cm                  0\n",
      "BMI                        0\n",
      "Diet_Preference            0\n",
      "Activity_Level             0\n",
      "Weekly_Activity_Days       0\n",
      "Disease                 2513\n",
      "Food_Allergies          3390\n",
      "Health_Goal                0\n",
      "Daily_Calories             0\n",
      "Breakfast                  0\n",
      "Lunch                      0\n",
      "Dinner                     0\n",
      "Snacks                     0\n",
      "Water_Intake_L             0\n",
      "Protein_g                  0\n",
      "Carbs_g                    0\n",
      "Fat_g                      0\n",
      "Fiber_g                    0\n",
      "Sugar_g                    0\n",
      "Vitamin_A_mcg              0\n",
      "Vitamin_C_mg               0\n",
      "Vitamin_D_mcg              0\n",
      "Calcium_mg                 0\n",
      "Iron_mg                    0\n",
      "Potassium_mg               0\n",
      "Magnesium_mg               0\n",
      "Zinc_mg                    0\n",
      "dtype: int64\n",
      "   Age  Gender  Weight_kg  Height_cm   BMI           Diet_Preference  \\\n",
      "0   27  Female         65        155  27.1  Mediterranean-Vegetarian   \n",
      "1   27  Female         65        155  27.1  Mediterranean-Vegetarian   \n",
      "2   27  Female         65        155  27.1  Mediterranean-Vegetarian   \n",
      "3   27  Female         65        155  27.1  Mediterranean-Vegetarian   \n",
      "4   27  Female         65        155  27.1  Mediterranean-Vegetarian   \n",
      "5   27  Female         65        155  27.1  Mediterranean-Vegetarian   \n",
      "6   27  Female         65        155  27.1  Mediterranean-Vegetarian   \n",
      "7   27  Female         65        155  27.1  Mediterranean-Vegetarian   \n",
      "8   27  Female         65        155  27.1  Mediterranean-Vegetarian   \n",
      "9   60  Female         48        159  19.0                Vegetarian   \n",
      "\n",
      "  Activity_Level  Weekly_Activity_Days        Disease Food_Allergies  ...  \\\n",
      "0       Moderate                     0  Heart Disease           Milk  ...   \n",
      "1       Moderate                     0  Heart Disease           Milk  ...   \n",
      "2       Moderate                     0  Heart Disease           Milk  ...   \n",
      "3       Moderate                     0  Heart Disease           Milk  ...   \n",
      "4       Moderate                     0  Heart Disease           Milk  ...   \n",
      "5       Moderate                     0  Heart Disease           Milk  ...   \n",
      "6       Moderate                     0  Heart Disease           Milk  ...   \n",
      "7       Moderate                     0  Heart Disease           Milk  ...   \n",
      "8       Moderate                     0  Heart Disease           Milk  ...   \n",
      "9          Light                     2            IBS       Multiple  ...   \n",
      "\n",
      "  Fiber_g  Sugar_g Vitamin_A_mcg Vitamin_C_mg Vitamin_D_mcg Calcium_mg  \\\n",
      "0      42       56           900           90            15       1200   \n",
      "1      33       44           900           90            15       1200   \n",
      "2      42       56           900           90            15       1000   \n",
      "3      42       56           900           90            15       1200   \n",
      "4      33       44           900           90            15       1200   \n",
      "5      42       56           900           90            15       1000   \n",
      "6      42       56           900           90            15       1200   \n",
      "7      33       44           900           90            15       1200   \n",
      "8      42       56           900           90            15       1000   \n",
      "9      26       35           900           90            15       1200   \n",
      "\n",
      "   Iron_mg  Potassium_mg  Magnesium_mg  Zinc_mg  \n",
      "0     27.0          3500           400       11  \n",
      "1     27.0          3500           400       11  \n",
      "2     18.0          3500           400       11  \n",
      "3     27.0          3500           400       11  \n",
      "4     27.0          3500           400       11  \n",
      "5     18.0          3500           400       11  \n",
      "6     27.0          3500           400       11  \n",
      "7     27.0          3500           400       11  \n",
      "8     18.0          3500           400       11  \n",
      "9     27.0          3500           400       11  \n",
      "\n",
      "[10 rows x 30 columns]\n"
     ]
    }
   ],
   "source": [
    "# Drop duplicates\n",
    "data = data.drop_duplicates()\n",
    "\n",
    "# Check missing values\n",
    "print(data.isnull().sum())\n",
    "\n",
    "# Handle missing values (example: fill with median for numerical columns)\n",
    "data.fillna(data.median(numeric_only=True), inplace=True)\n",
    "\n",
    "# Remove impossible values (e.g., negative calories)\n",
    "data = data[data[\"Daily_Calories\"] > 0]\n",
    "print(data.head(10))"
   ]
  },
  {
   "cell_type": "code",
   "execution_count": 36,
   "id": "0717765e",
   "metadata": {},
   "outputs": [],
   "source": [
    "# BMI Category (as before)\n",
    "data[\"BMI_Category\"] = data[\"BMI\"].apply(lambda x: \"Underweight\" if x < 18.5 else \"Normal\" if x < 25 else \"Overweight\" if x < 30 else \"Obese\")\n",
    "\n",
    "# Caloric Needs Adjustment based on Goal\n",
    "def adjust_calories(row):\n",
    "    if row[\"Health_Goal\"] == \"Weight Loss\":\n",
    "        return row[\"Daily_Calories\"] * 0.9  # 10% deficit\n",
    "    elif row[\"Health_Goal\"] == \"Muscle Gain\":\n",
    "        return row[\"Daily_Calories\"] * 1.1  # 10% surplus\n",
    "    else:\n",
    "        return row[\"Daily_Calories\"]\n",
    "\n",
    "data[\"Adjusted_Calories\"] = data.apply(adjust_calories, axis=1)\n",
    "\n",
    "# One-Hot Encoding for Categorical Variables\n",
    "categorical_cols = [\"Gender\", \"Diet_Preference\", \"Activity_Level\", \"Disease\", \"Food_Allergies\", \"Health_Goal\"]\n",
    "data = pd.get_dummies(data, columns=categorical_cols)"
   ]
  },
  {
   "cell_type": "code",
   "execution_count": 37,
   "id": "736bc43b",
   "metadata": {},
   "outputs": [],
   "source": [
    "# Bin Age into groups\n",
    "data[\"Age_Group\"] = pd.cut(data[\"Age\"], bins=[18, 30, 45, 60, 70], labels=[\"18-29\", \"30-44\", \"45-59\", \"60+\"])\n",
    "\n",
    "# Bin Weekly_Activity_Days\n",
    "data[\"Activity_Frequency\"] = pd.cut(data[\"Weekly_Activity_Days\"], bins=[-1, 2, 4, 7], labels=[\"Low\", \"Medium\", \"High\"])"
   ]
  },
  {
   "cell_type": "code",
   "execution_count": 38,
   "id": "d9106e40",
   "metadata": {},
   "outputs": [],
   "source": [
    "from sklearn.preprocessing import StandardScaler\n",
    "\n",
    "# Select numerical features to scale\n",
    "numerical_cols = [\"Age\", \"Weight_kg\", \"Height_cm\", \"BMI\", \"Daily_Calories\", \"Protein_g\", \"Carbs_g\", \"Fat_g\"]\n",
    "scaler = StandardScaler()\n",
    "data[numerical_cols] = scaler.fit_transform(data[numerical_cols])"
   ]
  },
  {
   "cell_type": "code",
   "execution_count": 39,
   "id": "6c2b09d5",
   "metadata": {},
   "outputs": [
    {
     "name": "stdout",
     "output_type": "stream",
     "text": [
      "TOP 10 SELECTED FEATURES:\n",
      "['Weight_kg', 'Daily_Calories', 'Water_Intake_L', 'Protein_g', 'Carbs_g', 'Fat_g', 'Fiber_g', 'Sugar_g', 'Diet_Preference_Flexitarian', 'Diet_Preference_Non-Vegetarian', 'Diet_Preference_Raw Vegan', 'Diet_Preference_Vegan', 'Diet_Preference_Vegetarian', 'Disease_Diabetes Type 2', 'Disease_Hypertension', 'Disease_Hypothyroidism', 'Disease_IBS', 'Disease_Iron Deficiency', 'Disease_Obesity', 'Food_Allergies_Fish', 'Food_Allergies_Milk', 'Food_Allergies_Peanuts', 'Food_Allergies_Shellfish', 'Food_Allergies_Tree Nuts', 'Food_Allergies_Wheat']\n"
     ]
    },
    {
     "name": "stderr",
     "output_type": "stream",
     "text": [
      "C:\\Users\\varsh\\AppData\\Local\\Packages\\PythonSoftwareFoundation.Python.3.12_qbz5n2kfra8p0\\LocalCache\\local-packages\\Python312\\site-packages\\sklearn\\feature_selection\\_univariate_selection.py:111: UserWarning: Features [12 13 14 17 18 19] are constant.\n",
      "  warnings.warn(\"Features %s are constant.\" % constant_features_idx, UserWarning)\n",
      "C:\\Users\\varsh\\AppData\\Local\\Packages\\PythonSoftwareFoundation.Python.3.12_qbz5n2kfra8p0\\LocalCache\\local-packages\\Python312\\site-packages\\sklearn\\feature_selection\\_univariate_selection.py:112: RuntimeWarning: invalid value encountered in divide\n",
      "  f = msb / msw\n",
      "C:\\Users\\varsh\\AppData\\Local\\Temp\\ipykernel_22496\\3189008739.py:41: SettingWithCopyWarning: \n",
      "A value is trying to be set on a copy of a slice from a DataFrame.\n",
      "Try using .loc[row_indexer,col_indexer] = value instead\n",
      "\n",
      "See the caveats in the documentation: https://pandas.pydata.org/pandas-docs/stable/user_guide/indexing.html#returning-a-view-versus-a-copy\n",
      "  selected_data['Target_Breakfast'] = y_encoded  # Add encoded target if needed\n"
     ]
    }
   ],
   "source": [
    "import pandas as pd\n",
    "from sklearn.feature_selection import SelectKBest, f_classif\n",
    "from sklearn.preprocessing import LabelEncoder\n",
    "from sklearn.impute import SimpleImputer\n",
    "\n",
    "\n",
    "data = pd.merge(\n",
    "    pd.merge(final_data, meal_suggestions, on=\"Daily_Calories\"),\n",
    "    nutrients, on=\"Daily_Calories\"\n",
    ")\n",
    "\n",
    "# 2. Define target (e.g., recommending Breakfast meals)\n",
    "y = data[\"Breakfast\"]  # Categorical target\n",
    "\n",
    "# 3. Prepare features (X)\n",
    "X = data.drop(columns=[\"Breakfast\", \"Lunch\", \"Dinner\", \"Snacks\"])\n",
    "\n",
    "# 4. Handle categorical features (ONE-HOT ENCODING)\n",
    "categorical_cols = X.select_dtypes(include=['object', 'category']).columns\n",
    "X_encoded = pd.get_dummies(X, columns=categorical_cols, drop_first=True)\n",
    "\n",
    "# 5. Handle missing values (IMPUTATION)\n",
    "imputer = SimpleImputer(strategy='median')\n",
    "X_imputed = pd.DataFrame(imputer.fit_transform(X_encoded), columns=X_encoded.columns)\n",
    "\n",
    "# 6. Encode target variable (if categorical)\n",
    "le = LabelEncoder()\n",
    "y_encoded = le.fit_transform(y)\n",
    "\n",
    "# 7. Feature Selection (SelectKBest with ANOVA F-value)\n",
    "selector = SelectKBest(score_func=f_classif, k=25)  # Select top 10 features\n",
    "X_selected = selector.fit_transform(X_imputed, y_encoded)\n",
    "\n",
    "# 8. Get selected feature names\n",
    "selected_features = X_encoded.columns[selector.get_support()]\n",
    "print(\"TOP 10 SELECTED FEATURES:\")\n",
    "print(selected_features.tolist())\n",
    "\n",
    "# 9. Create new DataFrame with selected features\n",
    "selected_data = X_imputed[selected_features]\n",
    "selected_data['Target_Breakfast'] = y_encoded  # Add encoded target if needed"
   ]
  },
  {
   "cell_type": "code",
   "execution_count": 40,
   "id": "1ce47935",
   "metadata": {},
   "outputs": [
    {
     "name": "stdout",
     "output_type": "stream",
     "text": [
      "Accuracy: 0.9046573336993321\n"
     ]
    }
   ],
   "source": [
    "from sklearn.model_selection import train_test_split\n",
    "from sklearn.metrics import mean_squared_error\n",
    "\n",
    "# Split data into train/test sets\n",
    "X_train, X_test, y_train, y_test = train_test_split(X_selected, y, test_size=0.2)\n",
    "\n",
    "# Train a classifier (e.g., RandomForest for demonstration)\n",
    "from sklearn.ensemble import RandomForestClassifier\n",
    "clf = RandomForestClassifier()\n",
    "clf.fit(X_train, y_train)\n",
    "\n",
    "# Predict and evaluate\n",
    "y_pred = clf.predict(X_test)\n",
    "print(\"Accuracy:\", clf.score(X_test, y_test))"
   ]
  },
  {
   "cell_type": "code",
   "execution_count": 41,
   "id": "b5b197e6",
   "metadata": {},
   "outputs": [
    {
     "name": "stdout",
     "output_type": "stream",
     "text": [
      "                                            precision    recall  f1-score   support\n",
      "\n",
      "Allergy-safe breakfast: Oatmeal with seeds       0.86      0.83      0.85      1019\n",
      "  Low-carb breakfast: Eggs with vegetables       0.73      0.67      0.70       935\n",
      "         Protein breakfast: Eggs and toast       0.93      0.95      0.94      8040\n",
      "            Vegan breakfast: Tofu scramble       0.88      0.81      0.85       533\n",
      " Vegetarian breakfast: Oatmeal with fruits       0.81      0.76      0.78       402\n",
      "\n",
      "                                  accuracy                           0.90     10929\n",
      "                                 macro avg       0.84      0.81      0.82     10929\n",
      "                              weighted avg       0.90      0.90      0.90     10929\n",
      "\n"
     ]
    }
   ],
   "source": [
    "from sklearn.metrics import classification_report\n",
    "print(classification_report(y_test, y_pred))"
   ]
  },
  {
   "cell_type": "code",
   "execution_count": null,
   "id": "2d6f9c60",
   "metadata": {},
   "outputs": [
    {
     "data": {
      "text/plain": [
       "['meal_classifier_model.pkl']"
      ]
     },
     "execution_count": 44,
     "metadata": {},
     "output_type": "execute_result"
    }
   ],
   "source": [
    "import joblib \n",
    "joblib.dump(clf, 'models/meal_classifier_model.pkl')"
   ]
  }
 ],
 "metadata": {
  "kernelspec": {
   "display_name": "Python 3",
   "language": "python",
   "name": "python3"
  },
  "language_info": {
   "codemirror_mode": {
    "name": "ipython",
    "version": 3
   },
   "file_extension": ".py",
   "mimetype": "text/x-python",
   "name": "python",
   "nbconvert_exporter": "python",
   "pygments_lexer": "ipython3",
   "version": "3.12.10"
  }
 },
 "nbformat": 4,
 "nbformat_minor": 5
}
